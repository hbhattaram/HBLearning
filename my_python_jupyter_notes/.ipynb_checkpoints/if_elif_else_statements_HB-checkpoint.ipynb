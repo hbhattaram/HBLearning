{
 "cells": [
  {
   "cell_type": "code",
   "execution_count": 3,
   "metadata": {
    "collapsed": false
   },
   "outputs": [
    {
     "name": "stdout",
     "output_type": "stream",
     "text": [
      "Hello, it's true\n"
     ]
    }
   ],
   "source": [
    "if True:\n",
    "    print (\"Hello, it's true\")"
   ]
  },
  {
   "cell_type": "code",
   "execution_count": 5,
   "metadata": {
    "collapsed": false
   },
   "outputs": [
    {
     "name": "stdout",
     "output_type": "stream",
     "text": [
      "x was False!\n"
     ]
    }
   ],
   "source": [
    "x = False;\n",
    "if x: \n",
    "    print(\"x was True!\")\n",
    "else:\n",
    "    print(\"x was False!\")\n",
    "    "
   ]
  },
  {
   "cell_type": "code",
   "execution_count": 18,
   "metadata": {
    "collapsed": false
   },
   "outputs": [
    {
     "name": "stdout",
     "output_type": "stream",
     "text": [
      "It's BH\n"
     ]
    }
   ],
   "source": [
    "name = \"Harshit\"\n",
    "name1 = \"Bhattaram\"\n",
    "if name1 ==\"Harshit\":\n",
    "    print(\"It's HB\")\n",
    "elif name1 == \"Bhattaram\":\n",
    "    print(\"It's BH\")\n",
    "else:\n",
    "    print(\"It's not both\")"
   ]
  },
  {
   "cell_type": "code",
   "execution_count": 15,
   "metadata": {
    "collapsed": false
   },
   "outputs": [
    {
     "name": "stdout",
     "output_type": "stream",
     "text": [
      "Bank\n"
     ]
    }
   ],
   "source": [
    "loc = 'Bank'\n",
    "if loc == \"AutoShop\":\n",
    "    print (\"Auto\")\n",
    "elif loc == 'Bank':\n",
    "    print (\"Bank\")\n",
    "else:\n",
    "    print (\"Where are you?\")"
   ]
  },
  {
   "cell_type": "code",
   "execution_count": null,
   "metadata": {
    "collapsed": true
   },
   "outputs": [],
   "source": []
  }
 ],
 "metadata": {
  "kernelspec": {
   "display_name": "Python 3",
   "language": "python",
   "name": "python3"
  },
  "language_info": {
   "codemirror_mode": {
    "name": "ipython",
    "version": 3
   },
   "file_extension": ".py",
   "mimetype": "text/x-python",
   "name": "python",
   "nbconvert_exporter": "python",
   "pygments_lexer": "ipython3",
   "version": "3.6.0"
  }
 },
 "nbformat": 4,
 "nbformat_minor": 2
}
