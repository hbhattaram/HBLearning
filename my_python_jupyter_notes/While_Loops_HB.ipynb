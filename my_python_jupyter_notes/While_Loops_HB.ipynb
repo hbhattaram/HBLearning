{
 "cells": [
  {
   "cell_type": "code",
   "execution_count": 2,
   "metadata": {
    "collapsed": false,
    "scrolled": true
   },
   "outputs": [
    {
     "name": "stdout",
     "output_type": "stream",
     "text": [
      "x is currently: 0\n",
      "x is still less than 10, adding 1 to x\n",
      "x is currently: 1\n",
      "x is still less than 10, adding 1 to x\n",
      "x is currently: 2\n",
      "x is still less than 10, adding 1 to x\n",
      "x is currently: 3\n",
      "x is still less than 10, adding 1 to x\n",
      "x is currently: 4\n",
      "x is still less than 10, adding 1 to x\n",
      "x is currently: 5\n",
      "x is still less than 10, adding 1 to x\n",
      "x is currently: 6\n",
      "x is still less than 10, adding 1 to x\n",
      "x is currently: 7\n",
      "x is still less than 10, adding 1 to x\n",
      "x is currently: 8\n",
      "x is still less than 10, adding 1 to x\n",
      "x is currently: 9\n",
      "x is still less than 10, adding 1 to x\n"
     ]
    }
   ],
   "source": [
    "x = 0\n",
    "\n",
    "while x<10:\n",
    "    print ('x is currently:',x)\n",
    "    print ('x is still less than 10, adding 1 to x')\n",
    "    x+=1"
   ]
  },
  {
   "cell_type": "code",
   "execution_count": 3,
   "metadata": {
    "collapsed": false,
    "scrolled": true
   },
   "outputs": [
    {
     "name": "stdout",
     "output_type": "stream",
     "text": [
      "x is currently: 0\n",
      "x is still less than 10, adding 1 to x\n",
      "x is currently: 1\n",
      "x is still less than 10, adding 1 to x\n",
      "x is currently: 2\n",
      "x is still less than 10, adding 1 to x\n",
      "x is currently: 3\n",
      "x is still less than 10, adding 1 to x\n",
      "x is currently: 4\n",
      "x is still less than 10, adding 1 to x\n",
      "x is currently: 5\n",
      "x is still less than 10, adding 1 to x\n",
      "x is currently: 6\n",
      "x is still less than 10, adding 1 to x\n",
      "x is currently: 7\n",
      "x is still less than 10, adding 1 to x\n",
      "x is currently: 8\n",
      "x is still less than 10, adding 1 to x\n",
      "x is currently: 9\n",
      "x is still less than 10, adding 1 to x\n",
      "All done\n"
     ]
    }
   ],
   "source": [
    "x = 0\n",
    "\n",
    "while x<10:\n",
    "    print ('x is currently:',x)\n",
    "    print ('x is still less than 10, adding 1 to x')\n",
    "    x+=1\n",
    "else:\n",
    "    print(\"All done\")"
   ]
  },
  {
   "cell_type": "code",
   "execution_count": 6,
   "metadata": {
    "collapsed": false
   },
   "outputs": [
    {
     "name": "stdout",
     "output_type": "stream",
     "text": [
      "x is currently: 0\n",
      "x is still less than 10, adding 1 to x\n",
      "continuing\n",
      "x is currently: 1\n",
      "x is still less than 10, adding 1 to x\n",
      "continuing\n",
      "x is currently: 2\n",
      "x is still less than 10, adding 1 to x\n",
      "Hey it's three\n"
     ]
    }
   ],
   "source": [
    "x = 0\n",
    "\n",
    "while x<10:\n",
    "    print ('x is currently:',x)\n",
    "    print ('x is still less than 10, adding 1 to x')\n",
    "    x+=1\n",
    "    if x ==3:\n",
    "        print (\"Hey it's three\")\n",
    "        break\n",
    "    else:\n",
    "        print(\"continuing\")\n",
    "        continue"
   ]
  },
  {
   "cell_type": "code",
   "execution_count": 4,
   "metadata": {
    "collapsed": false
   },
   "outputs": [
    {
     "name": "stdout",
     "output_type": "stream",
     "text": [
      "Hello\n",
      "Hello\n",
      "Hello\n",
      "Hello\n",
      "Hello\n"
     ]
    }
   ],
   "source": [
    "x = 0\n",
    "\n",
    "while x<5:\n",
    "    print(\"Hello\")\n",
    "    x += 1"
   ]
  },
  {
   "cell_type": "code",
   "execution_count": 16,
   "metadata": {
    "collapsed": false
   },
   "outputs": [
    {
     "name": "stdout",
     "output_type": "stream",
     "text": [
      "x is currently: 0\n",
      "x is currently: 1\n",
      "x is currently: 2\n",
      "x is currently: 3\n",
      "x is currently: 4\n",
      "x is currently: 5\n",
      "x is currently: 6\n",
      "x is currently: 7\n",
      "x is currently: 8\n",
      "x is currently: 9\n",
      "All done!\n"
     ]
    }
   ],
   "source": [
    "x = 0\n",
    "while x<10:\n",
    "    print(\"x is currently:\", x)\n",
    "    x +=1\n",
    "else:\n",
    "        print(\"All done!\")"
   ]
  },
  {
   "cell_type": "code",
   "execution_count": 23,
   "metadata": {
    "collapsed": false
   },
   "outputs": [
    {
     "name": "stdout",
     "output_type": "stream",
     "text": [
      "X is currently 0\n",
      "X is still less than 10 and adding 1 to x\n",
      "Continuing..\n",
      "X is currently 1\n",
      "X is still less than 10 and adding 1 to x\n",
      "Continuing..\n",
      "X is currently 2\n",
      "X is still less than 10 and adding 1 to x\n",
      "Hey It's 3\n"
     ]
    }
   ],
   "source": [
    "x = 0\n",
    "while x<10:\n",
    "    print(\"X is currently\", x)\n",
    "    print(\"X is still less than 10 and adding 1 to x\")\n",
    "    x +=1\n",
    "    \n",
    "    if x==3:\n",
    "        print(\"Hey It's 3\")\n",
    "        break\n",
    "    else:\n",
    "        print(\"Continuing..\")\n",
    "        continue\n",
    "        "
   ]
  },
  {
   "cell_type": "code",
   "execution_count": null,
   "metadata": {
    "collapsed": true
   },
   "outputs": [],
   "source": []
  }
 ],
 "metadata": {
  "kernelspec": {
   "display_name": "Python 3",
   "language": "python",
   "name": "python3"
  },
  "language_info": {
   "codemirror_mode": {
    "name": "ipython",
    "version": 3
   },
   "file_extension": ".py",
   "mimetype": "text/x-python",
   "name": "python",
   "nbconvert_exporter": "python",
   "pygments_lexer": "ipython3",
   "version": "3.6.0"
  }
 },
 "nbformat": 4,
 "nbformat_minor": 2
}
